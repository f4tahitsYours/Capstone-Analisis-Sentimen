{
 "cells": [
  {
   "cell_type": "markdown",
   "metadata": {},
   "source": [
    "# Preprocessing"
   ]
  },
  {
   "cell_type": "markdown",
   "metadata": {},
   "source": [
    "## Import Library"
   ]
  },
  {
   "cell_type": "code",
   "execution_count": 2,
   "metadata": {},
   "outputs": [],
   "source": [
    "import pandas as pd\n",
    "import numpy as np\n",
    "import re\n",
    "import seaborn as sns\n",
    "import matplotlib.pyplot as plt\n",
    "import tensorflow as tf\n",
    "from tensorflow.keras.models import Sequential\n",
    "from tensorflow.keras.layers import Dense, Dropout\n",
    "from sklearn.feature_extraction.text import TfidfVectorizer\n",
    "from sklearn.feature_selection import SelectKBest, chi2\n",
    "from sklearn.model_selection import train_test_split, ShuffleSplit, cross_val_score\n",
    "from sklearn.metrics import accuracy_score, precision_score, recall_score, f1_score, confusion_matrix, classification_report\n",
    "from sklearn.preprocessing import LabelEncoder\n",
    "from nltk.corpus import stopwords\n",
    "from Sastrawi.StopWordRemover.StopWordRemoverFactory import StopWordRemoverFactory, StopWordRemover, ArrayDictionary\n",
    "from Sastrawi.Stemmer.StemmerFactory import StemmerFactory\n",
    "from joblib import dump, load"
   ]
  },
  {
   "cell_type": "code",
   "execution_count": 3,
   "metadata": {},
   "outputs": [],
   "source": [
    "file_path = \"C:/Users/user/Documents/Capstone Analisis Sentimen/Dataset/dataset_komentar_instagram_cyberbullying.csv\"\n",
    "df = pd.read_csv(file_path)\n",
    "df.rename(columns={'Instagram Comment Text' : 'ArtScape Comment Text'}, inplace=True)"
   ]
  },
  {
   "cell_type": "code",
   "execution_count": 4,
   "metadata": {},
   "outputs": [
    {
     "data": {
      "text/html": [
       "<div>\n",
       "<style scoped>\n",
       "    .dataframe tbody tr th:only-of-type {\n",
       "        vertical-align: middle;\n",
       "    }\n",
       "\n",
       "    .dataframe tbody tr th {\n",
       "        vertical-align: top;\n",
       "    }\n",
       "\n",
       "    .dataframe thead th {\n",
       "        text-align: right;\n",
       "    }\n",
       "</style>\n",
       "<table border=\"1\" class=\"dataframe\">\n",
       "  <thead>\n",
       "    <tr style=\"text-align: right;\">\n",
       "      <th></th>\n",
       "      <th>Id</th>\n",
       "      <th>Sentiment</th>\n",
       "      <th>ArtScape Comment Text</th>\n",
       "    </tr>\n",
       "  </thead>\n",
       "  <tbody>\n",
       "    <tr>\n",
       "      <th>0</th>\n",
       "      <td>1</td>\n",
       "      <td>negative</td>\n",
       "      <td>&lt;USERNAME&gt; TOLOL!! Gak ada hubungan nya kegug...</td>\n",
       "    </tr>\n",
       "    <tr>\n",
       "      <th>1</th>\n",
       "      <td>2</td>\n",
       "      <td>negative</td>\n",
       "      <td>Geblek lo tata...cowo bgt dibela2in balikan......</td>\n",
       "    </tr>\n",
       "    <tr>\n",
       "      <th>2</th>\n",
       "      <td>3</td>\n",
       "      <td>negative</td>\n",
       "      <td>Kmrn termewek2 skr lengket lg duhhh kok labil ...</td>\n",
       "    </tr>\n",
       "    <tr>\n",
       "      <th>3</th>\n",
       "      <td>4</td>\n",
       "      <td>negative</td>\n",
       "      <td>Intinya kalau kesel dengan ATT nya, gausah ke ...</td>\n",
       "    </tr>\n",
       "    <tr>\n",
       "      <th>4</th>\n",
       "      <td>5</td>\n",
       "      <td>negative</td>\n",
       "      <td>hadewwwww permpuan itu lg!!!!sakit jiwa,knp ha...</td>\n",
       "    </tr>\n",
       "  </tbody>\n",
       "</table>\n",
       "</div>"
      ],
      "text/plain": [
       "   Id Sentiment                              ArtScape Comment Text\n",
       "0   1  negative   <USERNAME> TOLOL!! Gak ada hubungan nya kegug...\n",
       "1   2  negative  Geblek lo tata...cowo bgt dibela2in balikan......\n",
       "2   3  negative  Kmrn termewek2 skr lengket lg duhhh kok labil ...\n",
       "3   4  negative  Intinya kalau kesel dengan ATT nya, gausah ke ...\n",
       "4   5  negative  hadewwwww permpuan itu lg!!!!sakit jiwa,knp ha..."
      ]
     },
     "execution_count": 4,
     "metadata": {},
     "output_type": "execute_result"
    }
   ],
   "source": [
    "df.head()"
   ]
  },
  {
   "cell_type": "markdown",
   "metadata": {},
   "source": [
    "#### Label Encoding"
   ]
  },
  {
   "cell_type": "markdown",
   "metadata": {},
   "source": [
    "Membuat dataset yang bersifat kategoris \n",
    "\n",
    "*0 = negative*\n",
    "*1 = positive*"
   ]
  },
  {
   "cell_type": "code",
   "execution_count": 5,
   "metadata": {},
   "outputs": [
    {
     "data": {
      "text/html": [
       "<div>\n",
       "<style scoped>\n",
       "    .dataframe tbody tr th:only-of-type {\n",
       "        vertical-align: middle;\n",
       "    }\n",
       "\n",
       "    .dataframe tbody tr th {\n",
       "        vertical-align: top;\n",
       "    }\n",
       "\n",
       "    .dataframe thead th {\n",
       "        text-align: right;\n",
       "    }\n",
       "</style>\n",
       "<table border=\"1\" class=\"dataframe\">\n",
       "  <thead>\n",
       "    <tr style=\"text-align: right;\">\n",
       "      <th></th>\n",
       "      <th>Id</th>\n",
       "      <th>Sentiment</th>\n",
       "      <th>ArtScape Comment Text</th>\n",
       "    </tr>\n",
       "  </thead>\n",
       "  <tbody>\n",
       "    <tr>\n",
       "      <th>0</th>\n",
       "      <td>1</td>\n",
       "      <td>0</td>\n",
       "      <td>&lt;USERNAME&gt; TOLOL!! Gak ada hubungan nya kegug...</td>\n",
       "    </tr>\n",
       "    <tr>\n",
       "      <th>1</th>\n",
       "      <td>2</td>\n",
       "      <td>0</td>\n",
       "      <td>Geblek lo tata...cowo bgt dibela2in balikan......</td>\n",
       "    </tr>\n",
       "    <tr>\n",
       "      <th>2</th>\n",
       "      <td>3</td>\n",
       "      <td>0</td>\n",
       "      <td>Kmrn termewek2 skr lengket lg duhhh kok labil ...</td>\n",
       "    </tr>\n",
       "    <tr>\n",
       "      <th>3</th>\n",
       "      <td>4</td>\n",
       "      <td>0</td>\n",
       "      <td>Intinya kalau kesel dengan ATT nya, gausah ke ...</td>\n",
       "    </tr>\n",
       "    <tr>\n",
       "      <th>4</th>\n",
       "      <td>5</td>\n",
       "      <td>0</td>\n",
       "      <td>hadewwwww permpuan itu lg!!!!sakit jiwa,knp ha...</td>\n",
       "    </tr>\n",
       "    <tr>\n",
       "      <th>...</th>\n",
       "      <td>...</td>\n",
       "      <td>...</td>\n",
       "      <td>...</td>\n",
       "    </tr>\n",
       "    <tr>\n",
       "      <th>395</th>\n",
       "      <td>396</td>\n",
       "      <td>1</td>\n",
       "      <td>Bangga sama suami yg selalu ingat istri disela...</td>\n",
       "    </tr>\n",
       "    <tr>\n",
       "      <th>396</th>\n",
       "      <td>397</td>\n",
       "      <td>1</td>\n",
       "      <td>Apaoun pekerjaannya yg penting halal u tuk men...</td>\n",
       "    </tr>\n",
       "    <tr>\n",
       "      <th>397</th>\n",
       "      <td>398</td>\n",
       "      <td>1</td>\n",
       "      <td>Gojek itu mayoritas pegangguran yang lama gak ...</td>\n",
       "    </tr>\n",
       "    <tr>\n",
       "      <th>398</th>\n",
       "      <td>399</td>\n",
       "      <td>1</td>\n",
       "      <td>&lt;USERNAME&gt; aslinya cantik dan ayu loh mbak kr...</td>\n",
       "    </tr>\n",
       "    <tr>\n",
       "      <th>399</th>\n",
       "      <td>400</td>\n",
       "      <td>1</td>\n",
       "      <td>&lt;USERNAME&gt; suami saya seumuran sama saya mba,...</td>\n",
       "    </tr>\n",
       "  </tbody>\n",
       "</table>\n",
       "<p>400 rows × 3 columns</p>\n",
       "</div>"
      ],
      "text/plain": [
       "      Id  Sentiment                              ArtScape Comment Text\n",
       "0      1          0   <USERNAME> TOLOL!! Gak ada hubungan nya kegug...\n",
       "1      2          0  Geblek lo tata...cowo bgt dibela2in balikan......\n",
       "2      3          0  Kmrn termewek2 skr lengket lg duhhh kok labil ...\n",
       "3      4          0  Intinya kalau kesel dengan ATT nya, gausah ke ...\n",
       "4      5          0  hadewwwww permpuan itu lg!!!!sakit jiwa,knp ha...\n",
       "..   ...        ...                                                ...\n",
       "395  396          1  Bangga sama suami yg selalu ingat istri disela...\n",
       "396  397          1  Apaoun pekerjaannya yg penting halal u tuk men...\n",
       "397  398          1  Gojek itu mayoritas pegangguran yang lama gak ...\n",
       "398  399          1   <USERNAME> aslinya cantik dan ayu loh mbak kr...\n",
       "399  400          1   <USERNAME> suami saya seumuran sama saya mba,...\n",
       "\n",
       "[400 rows x 3 columns]"
      ]
     },
     "execution_count": 5,
     "metadata": {},
     "output_type": "execute_result"
    }
   ],
   "source": [
    "le = LabelEncoder()\n",
    "df['Sentiment'] = le.fit_transform(df['Sentiment'].values)\n",
    "df"
   ]
  },
  {
   "cell_type": "markdown",
   "metadata": {},
   "source": [
    "*Menampilkan Informasi tentang DataFrame*"
   ]
  },
  {
   "cell_type": "code",
   "execution_count": 6,
   "metadata": {},
   "outputs": [
    {
     "name": "stdout",
     "output_type": "stream",
     "text": [
      "<class 'pandas.core.frame.DataFrame'>\n",
      "RangeIndex: 400 entries, 0 to 399\n",
      "Data columns (total 3 columns):\n",
      " #   Column                 Non-Null Count  Dtype \n",
      "---  ------                 --------------  ----- \n",
      " 0   Id                     400 non-null    int64 \n",
      " 1   Sentiment              400 non-null    int32 \n",
      " 2   ArtScape Comment Text  400 non-null    object\n",
      "dtypes: int32(1), int64(1), object(1)\n",
      "memory usage: 7.9+ KB\n"
     ]
    }
   ],
   "source": [
    "df.info()"
   ]
  },
  {
   "cell_type": "markdown",
   "metadata": {},
   "source": [
    "*Menampilkan daftar nama kolom dalam DataFrame*"
   ]
  },
  {
   "cell_type": "code",
   "execution_count": 7,
   "metadata": {},
   "outputs": [
    {
     "data": {
      "text/plain": [
       "Index(['Id', 'Sentiment', 'ArtScape Comment Text'], dtype='object')"
      ]
     },
     "execution_count": 7,
     "metadata": {},
     "output_type": "execute_result"
    }
   ],
   "source": [
    "df.columns"
   ]
  },
  {
   "cell_type": "markdown",
   "metadata": {},
   "source": [
    "*Mencetak total jumlah komentar dengan pesan yang sesuai dan Mencetak jumlah komentar dengan sentimen positif dan sentimen negatif beserta pesannya*"
   ]
  },
  {
   "cell_type": "code",
   "execution_count": 8,
   "metadata": {},
   "outputs": [
    {
     "name": "stdout",
     "output_type": "stream",
     "text": [
      "Total Sentiment Comment ArtScape: 400 df\n",
      "\n",
      "terdiri dari (Sentiment):\n",
      "[0] Sentiment positive\t: 200 data\n",
      "\n",
      "[1] Sentiment Negative\t: 200 data\n",
      "\n"
     ]
    }
   ],
   "source": [
    "print('Total Sentiment Comment ArtScape:', df.shape[0], 'df\\n')\n",
    "print('terdiri dari (Sentiment):')\n",
    "print('[0] Sentiment positive\\t:', df[df.Sentiment == 1].shape[0], 'data\\n')\n",
    "print('[1] Sentiment Negative\\t:', df[df.Sentiment == 0].shape[0], 'data\\n')"
   ]
  },
  {
   "cell_type": "markdown",
   "metadata": {},
   "source": [
    "### Distributor Kategori Sentiment ###"
   ]
  },
  {
   "cell_type": "markdown",
   "metadata": {},
   "source": [
    "*visualisasi distribusi kategori sentimen dalam DataFrame*"
   ]
  },
  {
   "cell_type": "code",
   "execution_count": 9,
   "metadata": {},
   "outputs": [
    {
     "data": {
      "image/png": "[encoded data removed]",
      "text/plain": [
       "<Figure size 480x400 with 1 Axes>"
      ]
     },
     "metadata": {},
     "output_type": "display_data"
    }
   ],
   "source": [
    "height = df['Sentiment'].value_counts()\n",
    "labels = ('Sentiment positive', 'Sentiment negative')\n",
    "y_pos = np.arange(len(labels))\n",
    "\n",
    "plt.figure(figsize=(6, 5), dpi=(80))\n",
    "plt.ylim(0, 300)\n",
    "plt.title('Distribusi Kategori Sentiment', fontweight='bold')\n",
    "plt.xlabel('Kategori', fontweight='bold')\n",
    "plt.ylabel('Jumlah', fontweight='bold')\n",
    "plt.bar(y_pos, height, color=['royalblue', 'skyblue'])\n",
    "plt.xticks(y_pos, labels)\n",
    "plt.show()"
   ]
  },
  {
   "cell_type": "markdown",
   "metadata": {},
   "source": [
    "# Text Preprocessing"
   ]
  },
  {
   "cell_type": "markdown",
   "metadata": {},
   "source": [
    "## Case Folding"
   ]
  },
  {
   "cell_type": "markdown",
   "metadata": {},
   "source": [
    "*lakukan beberapa langkah pemrosesan teks, termasuk case folding (mengubah semua huruf menjadi huruf kecil) dan penghapusan pola teks tertentu seperti nama pengguna Twitter, hashtag, URL, tag HTML, dan karakter non-alfabet*"
   ]
  },
  {
   "cell_type": "code",
   "execution_count": 10,
   "metadata": {},
   "outputs": [],
   "source": [
    "def casefolding(text):\n",
    "    text = text.lower()\n",
    "    text = re.sub(r'@[A-Za-z0-9_]+', '', text)\n",
    "    text = re.sub(r'#\\w+', '', text)\n",
    "    text = re.sub(r'https?://\\S+', '', text)\n",
    "    text = re.sub(r'<[^>]+>', '', text)\n",
    "    text = re.sub(r'[^A-Za-z\\s]', '', text)\n",
    "    return text"
   ]
  },
  {
   "cell_type": "markdown",
   "metadata": {},
   "source": [
    "*ambil sampel data dari kolom 'ArtScape Comment Text' pada DataFrame df, kemudian melakukan case folding menggunakan fungsi casefolding yang telah didefinisikan sebelumnya, dan akhirnya mencetak hasilnya*"
   ]
  },
  {
   "cell_type": "code",
   "execution_count": 11,
   "metadata": {},
   "outputs": [
    {
     "name": "stdout",
     "output_type": "stream",
     "text": [
      "Raw df\t:  <USERNAME> ahhh katanya jaga ucapan, lahh ucapan dia ngk dijaga sendiri.. dasar munafik.. dasar betina zaman now ellu kali yangg kelebihan micin.. loe sendiri otak loe kan di selangkangan mana paham.. semoga Tuhan ampunin kemunafikan loe cun\n",
      "Case folding\t:   ahhh katanya jaga ucapan lahh ucapan dia ngk dijaga sendiri dasar munafik dasar betina zaman now ellu kali yangg kelebihan micin loe sendiri otak loe kan di selangkangan mana paham semoga tuhan ampunin kemunafikan loe cun\n"
     ]
    }
   ],
   "source": [
    "raw_sample = df['ArtScape Comment Text'].iloc[17]\n",
    "case_folding = casefolding(raw_sample)\n",
    "\n",
    "print('Raw df\\t:', raw_sample)\n",
    "print('Case folding\\t:', case_folding)"
   ]
  },
  {
   "cell_type": "markdown",
   "metadata": {},
   "source": [
    "## Word Normalization"
   ]
  },
  {
   "cell_type": "markdown",
   "metadata": {},
   "source": [
    "*membaca file CSV yang berisi data kunci yang telah dinormalisasi, kemudian mencetak beberapa baris pertama dari data tersebut dan mengembalikan dimensi DataFrame*"
   ]
  },
  {
   "cell_type": "code",
   "execution_count": 12,
   "metadata": {},
   "outputs": [
    {
     "name": "stdout",
     "output_type": "stream",
     "text": [
      "   _id      singkat       hasil\n",
      "0    1         abis       habis\n",
      "1    2       accent     tekanan\n",
      "2    3       accept      terima\n",
      "3    4     accident  kecelakaan\n",
      "4    5  achievement    prestasi\n"
     ]
    },
    {
     "data": {
      "text/plain": [
       "(3721, 3)"
      ]
     },
     "execution_count": 12,
     "metadata": {},
     "output_type": "execute_result"
    }
   ],
   "source": [
    "file_path = \"C:/Users/user/Documents/Capstone Analisis Sentimen/Dataset/key_norm.csv\"\n",
    "key_norm = pd.read_csv(file_path)\n",
    "print(key_norm.head())\n",
    "key_norm.shape"
   ]
  },
  {
   "cell_type": "markdown",
   "metadata": {},
   "source": [
    "*lakukan normalisasi teks dengan menggunakan data kunci yang telah dibaca sebelumnya*"
   ]
  },
  {
   "cell_type": "code",
   "execution_count": 13,
   "metadata": {},
   "outputs": [],
   "source": [
    "def text_normalize(text):\n",
    "    text = ' '.join([key_norm[key_norm['singkat'] == word]['hasil'].values[0] if (key_norm['singkat'] == word).any() else word for word in text.split()]) \n",
    "    text = str.lower(text)\n",
    "    return text"
   ]
  },
  {
   "cell_type": "markdown",
   "metadata": {},
   "source": [
    "## Filtering (Stopword Removal)"
   ]
  },
  {
   "cell_type": "markdown",
   "metadata": {},
   "source": [
    "*mengambil daftar kata-kata stopwords dalam bahasa Indonesia dari modul stopwords dalam NLTK (Natural Language Toolkit), kemudian menambahkan beberapa kata tambahan ke dalam daftar tersebut*"
   ]
  },
  {
   "cell_type": "code",
   "execution_count": 14,
   "metadata": {},
   "outputs": [],
   "source": [
    "stopwords_ind = stopwords.words('indonesian')\n",
    "more_stopword = ['tsel', 'gb', 'rb']\n",
    "stopwords_ind = stopwords_ind + more_stopword"
   ]
  },
  {
   "cell_type": "markdown",
   "metadata": {},
   "source": [
    "*hapus kata-kata stopwords dari teks yang diberikan*"
   ]
  },
  {
   "cell_type": "code",
   "execution_count": 15,
   "metadata": {},
   "outputs": [],
   "source": [
    "def remove_stop_words(text):\n",
    "    return \" \".join([word for word in text.split() if word not in stopwords_ind])"
   ]
  },
  {
   "cell_type": "markdown",
   "metadata": {},
   "source": [
    "*ambil contoh teks dari kolom 'ArtScape Comment Text' dalam DataFrame df, kemudian melakukan beberapa tahapan pemrosesan teks seperti case folding, normalisasi teks, dan penghapusan kata-kata stopwords, serta mencetak hasilnya*"
   ]
  },
  {
   "cell_type": "code",
   "execution_count": 16,
   "metadata": {},
   "outputs": [
    {
     "name": "stdout",
     "output_type": "stream",
     "text": [
      "Raw df\t\t:  <USERNAME> ahhh katanya jaga ucapan, lahh ucapan dia ngk dijaga sendiri.. dasar munafik.. dasar betina zaman now ellu kali yangg kelebihan micin.. loe sendiri otak loe kan di selangkangan mana paham.. semoga Tuhan ampunin kemunafikan loe cun\n",
      "Case folding\t:   ahhh katanya jaga ucapan lahh ucapan dia ngk dijaga sendiri dasar munafik dasar betina zaman now ellu kali yangg kelebihan micin loe sendiri otak loe kan di selangkangan mana paham semoga tuhan ampunin kemunafikan loe cun\n",
      "Stopword Removal\t: ahhh jaga ucapan lahh ucapan dijaga dasar munafik dasar betina zaman ellu kali yangg kelebihan micin otak selangkangan paham semoga tuhan ampunin kemunafikan cun\n"
     ]
    }
   ],
   "source": [
    "raw_sample = df['ArtScape Comment Text'].iloc[17]\n",
    "case_folding = casefolding(raw_sample)\n",
    "normalized_text = text_normalize(case_folding)  \n",
    "stopword_removal = remove_stop_words(normalized_text) \n",
    "\n",
    "print('Raw df\\t\\t:', raw_sample)\n",
    "print('Case folding\\t:', case_folding)\n",
    "print('Stopword Removal\\t:', stopword_removal)"
   ]
  },
  {
   "cell_type": "markdown",
   "metadata": {},
   "source": [
    "## Steaming"
   ]
  },
  {
   "cell_type": "markdown",
   "metadata": {},
   "source": [
    "*gunakan pustaka Sastrawi untuk membuat objek stemmer, yang akan digunakan untuk melakukan stemming pada kata-kata dalam bahasa Indonesia*"
   ]
  },
  {
   "cell_type": "code",
   "execution_count": 17,
   "metadata": {},
   "outputs": [],
   "source": [
    "factory = StemmerFactory()\n",
    "stemmer = factory.create_stemmer()"
   ]
  },
  {
   "cell_type": "markdown",
   "metadata": {},
   "source": [
    "*lakukan stemming pada teks yang diberikan menggunakan objek stemmer yang telah dibuat sebelumnya*"
   ]
  },
  {
   "cell_type": "code",
   "execution_count": 18,
   "metadata": {},
   "outputs": [],
   "source": [
    "def stemming(text):\n",
    "    return stemmer.stem(text)"
   ]
  },
  {
   "cell_type": "markdown",
   "metadata": {},
   "source": [
    "*lakukan beberapa tahapan pemrosesan teks secara berurutan, termasuk case folding, normalisasi kata, penghapusan kata-kata stopwords, dan stemming*"
   ]
  },
  {
   "cell_type": "code",
   "execution_count": 19,
   "metadata": {},
   "outputs": [],
   "source": [
    "def text_preprocessing_process(text):\n",
    "    text = casefolding(text)\n",
    "    text = text_normalize(text)\n",
    "    text = remove_stop_words(text)\n",
    "    text = stemming(text)\n",
    "    return text"
   ]
  },
  {
   "cell_type": "markdown",
   "metadata": {},
   "source": [
    "*lakukan pra-pemrosesan teks pada satu contoh teks yang diambil dari kolom 'ArtScape Comment Text' dalam DataFrame, meliputi langkah-langkah case folding, normalisasi teks, penghapusan kata-kata stopwords, dan stemming, serta mencetak hasilnya untuk memeriksa perubahan yang terjadi pada teks setelah melalui setiap tahapan.*"
   ]
  },
  {
   "cell_type": "code",
   "execution_count": 20,
   "metadata": {},
   "outputs": [
    {
     "name": "stdout",
     "output_type": "stream",
     "text": [
      "Raw df\t\t:  <USERNAME> ahhh katanya jaga ucapan, lahh ucapan dia ngk dijaga sendiri.. dasar munafik.. dasar betina zaman now ellu kali yangg kelebihan micin.. loe sendiri otak loe kan di selangkangan mana paham.. semoga Tuhan ampunin kemunafikan loe cun\n",
      "Case folding\t:   ahhh katanya jaga ucapan lahh ucapan dia ngk dijaga sendiri dasar munafik dasar betina zaman now ellu kali yangg kelebihan micin loe sendiri otak loe kan di selangkangan mana paham semoga tuhan ampunin kemunafikan loe cun\n",
      "Stopword Removal\t: ahhh jaga ucapan lahh ucapan dijaga dasar munafik dasar betina zaman ellu kali yangg kelebihan micin otak selangkangan paham semoga tuhan ampunin kemunafikan cun\n",
      "Stemming\t\t: ahhh jaga ucap lahh ucap jaga dasar munafik dasar betina zaman ellu kali yangg lebih micin otak selangkang paham moga tuhan ampunin munafik cun\n"
     ]
    }
   ],
   "source": [
    "raw_sample = df['ArtScape Comment Text'].iloc[17]\n",
    "case_folding = casefolding(raw_sample)\n",
    "normalized_text = text_normalize(case_folding)  \n",
    "stopword_removal = remove_stop_words(normalized_text) \n",
    "text_stemming = stemming(stopword_removal)\n",
    "\n",
    "print('Raw df\\t\\t:', raw_sample)\n",
    "print('Case folding\\t:', case_folding)\n",
    "print('Stopword Removal\\t:', stopword_removal)\n",
    "print('Stemming\\t\\t:', text_stemming)"
   ]
  },
  {
   "cell_type": "markdown",
   "metadata": {},
   "source": [
    "# Text Preprocessing Pipeline\n",
    "#### Pipeline ini bertujuan untuk membersihkan dan menormalkan teks sehingga lebih cocok untuk analisis dan pemrosesan oleh model atau algoritma."
   ]
  },
  {
   "cell_type": "markdown",
   "metadata": {},
   "source": [
    "*mengukur waktu eksekusi dan menerapkan fungsi text_preprocessing_process pada setiap baris teks dalam kolom 'ArtScape Comment Text' dari DataFrame, dengan tujuan untuk melakukan pra-pemrosesan teks pada data tersebut dan menyimpan hasilnya dalam kolom baru 'clean_teks'.*"
   ]
  },
  {
   "cell_type": "code",
   "execution_count": 21,
   "metadata": {},
   "outputs": [
    {
     "name": "stdout",
     "output_type": "stream",
     "text": [
      "CPU times: total: 1min 49s\n",
      "Wall time: 4min 11s\n"
     ]
    }
   ],
   "source": [
    "%%time\n",
    "df['clean_teks'] = df['ArtScape Comment Text'].apply(text_preprocessing_process)"
   ]
  },
  {
   "cell_type": "markdown",
   "metadata": {},
   "source": [
    "*menampilkan DataFrame*"
   ]
  },
  {
   "cell_type": "code",
   "execution_count": 22,
   "metadata": {},
   "outputs": [
    {
     "data": {
      "text/html": [
       "<div>\n",
       "<style scoped>\n",
       "    .dataframe tbody tr th:only-of-type {\n",
       "        vertical-align: middle;\n",
       "    }\n",
       "\n",
       "    .dataframe tbody tr th {\n",
       "        vertical-align: top;\n",
       "    }\n",
       "\n",
       "    .dataframe thead th {\n",
       "        text-align: right;\n",
       "    }\n",
       "</style>\n",
       "<table border=\"1\" class=\"dataframe\">\n",
       "  <thead>\n",
       "    <tr style=\"text-align: right;\">\n",
       "      <th></th>\n",
       "      <th>Id</th>\n",
       "      <th>Sentiment</th>\n",
       "      <th>ArtScape Comment Text</th>\n",
       "      <th>clean_teks</th>\n",
       "    </tr>\n",
       "  </thead>\n",
       "  <tbody>\n",
       "    <tr>\n",
       "      <th>0</th>\n",
       "      <td>1</td>\n",
       "      <td>0</td>\n",
       "      <td>&lt;USERNAME&gt; TOLOL!! Gak ada hubungan nya kegug...</td>\n",
       "      <td>tolol hubung nya gugur pakai hijab syar bilang...</td>\n",
       "    </tr>\n",
       "    <tr>\n",
       "      <th>1</th>\n",
       "      <td>2</td>\n",
       "      <td>0</td>\n",
       "      <td>Geblek lo tata...cowo bgt dibela2in balikan......</td>\n",
       "      <td>bodoh tatacowo banget bain balikanhadewwntar t...</td>\n",
       "    </tr>\n",
       "    <tr>\n",
       "      <th>2</th>\n",
       "      <td>3</td>\n",
       "      <td>0</td>\n",
       "      <td>Kmrn termewek2 skr lengket lg duhhh kok labil ...</td>\n",
       "      <td>kemarin mewek skr lengket duhhh labil banget s...</td>\n",
       "    </tr>\n",
       "    <tr>\n",
       "      <th>3</th>\n",
       "      <td>4</td>\n",
       "      <td>0</td>\n",
       "      <td>Intinya kalau kesel dengan ATT nya, gausah ke ...</td>\n",
       "      <td>inti kesel att nya anak kasihan kembang psikis...</td>\n",
       "    </tr>\n",
       "    <tr>\n",
       "      <th>4</th>\n",
       "      <td>5</td>\n",
       "      <td>0</td>\n",
       "      <td>hadewwwww permpuan itu lg!!!!sakit jiwa,knp ha...</td>\n",
       "      <td>hadewwwww permpuan lgsakit jiwaknp peran utama...</td>\n",
       "    </tr>\n",
       "    <tr>\n",
       "      <th>...</th>\n",
       "      <td>...</td>\n",
       "      <td>...</td>\n",
       "      <td>...</td>\n",
       "      <td>...</td>\n",
       "    </tr>\n",
       "    <tr>\n",
       "      <th>395</th>\n",
       "      <td>396</td>\n",
       "      <td>1</td>\n",
       "      <td>Bangga sama suami yg selalu ingat istri disela...</td>\n",
       "      <td>bangga suami istri sela apa profesi kau juara ...</td>\n",
       "    </tr>\n",
       "    <tr>\n",
       "      <th>396</th>\n",
       "      <td>397</td>\n",
       "      <td>1</td>\n",
       "      <td>Apaoun pekerjaannya yg penting halal u tuk men...</td>\n",
       "      <td>apaoun kerja halal tuk nafkah keluarga semangat</td>\n",
       "    </tr>\n",
       "    <tr>\n",
       "      <th>397</th>\n",
       "      <td>398</td>\n",
       "      <td>1</td>\n",
       "      <td>Gojek itu mayoritas pegangguran yang lama gak ...</td>\n",
       "      <td>gojek mayoritas pegangguran kerja putus asaa t...</td>\n",
       "    </tr>\n",
       "    <tr>\n",
       "      <th>398</th>\n",
       "      <td>399</td>\n",
       "      <td>1</td>\n",
       "      <td>&lt;USERNAME&gt; aslinya cantik dan ayu loh mbak kr...</td>\n",
       "      <td>asli cantik ayu loh mbak temu langsung sembak ...</td>\n",
       "    </tr>\n",
       "    <tr>\n",
       "      <th>399</th>\n",
       "      <td>400</td>\n",
       "      <td>1</td>\n",
       "      <td>&lt;USERNAME&gt; suami saya seumuran sama saya mba,...</td>\n",
       "      <td>suami umur mbak tua alhamdulillah suami kekana...</td>\n",
       "    </tr>\n",
       "  </tbody>\n",
       "</table>\n",
       "<p>400 rows × 4 columns</p>\n",
       "</div>"
      ],
      "text/plain": [
       "      Id  Sentiment                              ArtScape Comment Text  \\\n",
       "0      1          0   <USERNAME> TOLOL!! Gak ada hubungan nya kegug...   \n",
       "1      2          0  Geblek lo tata...cowo bgt dibela2in balikan......   \n",
       "2      3          0  Kmrn termewek2 skr lengket lg duhhh kok labil ...   \n",
       "3      4          0  Intinya kalau kesel dengan ATT nya, gausah ke ...   \n",
       "4      5          0  hadewwwww permpuan itu lg!!!!sakit jiwa,knp ha...   \n",
       "..   ...        ...                                                ...   \n",
       "395  396          1  Bangga sama suami yg selalu ingat istri disela...   \n",
       "396  397          1  Apaoun pekerjaannya yg penting halal u tuk men...   \n",
       "397  398          1  Gojek itu mayoritas pegangguran yang lama gak ...   \n",
       "398  399          1   <USERNAME> aslinya cantik dan ayu loh mbak kr...   \n",
       "399  400          1   <USERNAME> suami saya seumuran sama saya mba,...   \n",
       "\n",
       "                                            clean_teks  \n",
       "0    tolol hubung nya gugur pakai hijab syar bilang...  \n",
       "1    bodoh tatacowo banget bain balikanhadewwntar t...  \n",
       "2    kemarin mewek skr lengket duhhh labil banget s...  \n",
       "3    inti kesel att nya anak kasihan kembang psikis...  \n",
       "4    hadewwwww permpuan lgsakit jiwaknp peran utama...  \n",
       "..                                                 ...  \n",
       "395  bangga suami istri sela apa profesi kau juara ...  \n",
       "396    apaoun kerja halal tuk nafkah keluarga semangat  \n",
       "397  gojek mayoritas pegangguran kerja putus asaa t...  \n",
       "398  asli cantik ayu loh mbak temu langsung sembak ...  \n",
       "399  suami umur mbak tua alhamdulillah suami kekana...  \n",
       "\n",
       "[400 rows x 4 columns]"
      ]
     },
     "execution_count": 22,
     "metadata": {},
     "output_type": "execute_result"
    }
   ],
   "source": [
    "df"
   ]
  },
  {
   "cell_type": "markdown",
   "metadata": {},
   "source": [
    "*menyimpannya ke dalam file CSV yang disebut 'clean_data.csv'*"
   ]
  },
  {
   "cell_type": "code",
   "execution_count": 23,
   "metadata": {},
   "outputs": [],
   "source": [
    "df.to_csv('clean_data_baru.csv')"
   ]
  },
  {
   "cell_type": "markdown",
   "metadata": {},
   "source": [
    "# Feature Engineering"
   ]
  },
  {
   "cell_type": "markdown",
   "metadata": {},
   "source": [
    "*menyiapkan data untuk proses feature engineering. Variabel x berisi teks yang telah dibersihkan dari DataFrame df, sedangkan variabel y berisi label sentimen yang sesuai dengan teks tersebut*"
   ]
  },
  {
   "cell_type": "code",
   "execution_count": 24,
   "metadata": {},
   "outputs": [],
   "source": [
    "x = df['clean_teks']\n",
    "y = df['Sentiment']"
   ]
  },
  {
   "cell_type": "markdown",
   "metadata": {},
   "source": [
    "*menampilkan variabel 'x' yang berisi teks yang telah dibersihkan*"
   ]
  },
  {
   "cell_type": "code",
   "execution_count": 25,
   "metadata": {},
   "outputs": [
    {
     "data": {
      "text/plain": [
       "0      tolol hubung nya gugur pakai hijab syar bilang...\n",
       "1      bodoh tatacowo banget bain balikanhadewwntar t...\n",
       "2      kemarin mewek skr lengket duhhh labil banget s...\n",
       "3      inti kesel att nya anak kasihan kembang psikis...\n",
       "4      hadewwwww permpuan lgsakit jiwaknp peran utama...\n",
       "                             ...                        \n",
       "395    bangga suami istri sela apa profesi kau juara ...\n",
       "396      apaoun kerja halal tuk nafkah keluarga semangat\n",
       "397    gojek mayoritas pegangguran kerja putus asaa t...\n",
       "398    asli cantik ayu loh mbak temu langsung sembak ...\n",
       "399    suami umur mbak tua alhamdulillah suami kekana...\n",
       "Name: clean_teks, Length: 400, dtype: object"
      ]
     },
     "execution_count": 25,
     "metadata": {},
     "output_type": "execute_result"
    }
   ],
   "source": [
    "x"
   ]
  },
  {
   "cell_type": "markdown",
   "metadata": {},
   "source": [
    "*menampilkan variabel 'y' yang berisi label sentimen yang sesuai*"
   ]
  },
  {
   "cell_type": "code",
   "execution_count": 26,
   "metadata": {},
   "outputs": [
    {
     "data": {
      "text/plain": [
       "0      0\n",
       "1      0\n",
       "2      0\n",
       "3      0\n",
       "4      0\n",
       "      ..\n",
       "395    1\n",
       "396    1\n",
       "397    1\n",
       "398    1\n",
       "399    1\n",
       "Name: Sentiment, Length: 400, dtype: int32"
      ]
     },
     "execution_count": 26,
     "metadata": {},
     "output_type": "execute_result"
    }
   ],
   "source": [
    "y"
   ]
  },
  {
   "cell_type": "markdown",
   "metadata": {},
   "source": [
    "## Feature Extraction (TF-IDF and N-Gram)\n",
    "\n",
    "*gunakan metode TF-IDF (Term Frequency-Inverse Document Frequency) untuk mengubah teks yang telah dibersihkan dalam variabel x menjadi representasi matriks TF-IDF*"
   ]
  },
  {
   "cell_type": "code",
   "execution_count": 27,
   "metadata": {},
   "outputs": [],
   "source": [
    "tf_idf = TfidfVectorizer(ngram_range=(1, 1))\n",
    "x_tf_idf = tf_idf.fit_transform(x).toarray()"
   ]
  },
  {
   "cell_type": "markdown",
   "metadata": {},
   "source": [
    "*cetak jumlah total fitur (kata-kata) yang telah diekstraksi dari teks menggunakan TF-IDF, serta daftar fitur tersebut*"
   ]
  },
  {
   "cell_type": "code",
   "execution_count": 28,
   "metadata": {},
   "outputs": [
    {
     "name": "stdout",
     "output_type": "stream",
     "text": [
      "2305\n",
      "['aamiin' 'aammiinnn' 'abal' ... 'zholimi' 'zina' 'zzzzz']\n"
     ]
    }
   ],
   "source": [
    "print(len(tf_idf.get_feature_names_out()))\n",
    "print(tf_idf.get_feature_names_out())"
   ]
  },
  {
   "cell_type": "markdown",
   "metadata": {},
   "source": [
    "*gunakan objek TF-IDF yang sudah di-fit sebelumnya pada data training, teks dalam variabel x dapat diubah menjadi representasi matriks TF-IDF yang disimpan dalam variabel x_tf_idf untuk digunakan sebagai fitur dalam analisis atau pemodelan selanjutnya.*"
   ]
  },
  {
   "cell_type": "code",
   "execution_count": 29,
   "metadata": {},
   "outputs": [
    {
     "data": {
      "text/plain": [
       "array([[0., 0., 0., ..., 0., 0., 0.],\n",
       "       [0., 0., 0., ..., 0., 0., 0.],\n",
       "       [0., 0., 0., ..., 0., 0., 0.],\n",
       "       ...,\n",
       "       [0., 0., 0., ..., 0., 0., 0.],\n",
       "       [0., 0., 0., ..., 0., 0., 0.],\n",
       "       [0., 0., 0., ..., 0., 0., 0.]])"
      ]
     },
     "execution_count": 29,
     "metadata": {},
     "output_type": "execute_result"
    }
   ],
   "source": [
    "x_tf_idf = tf_idf.transform(x).toarray()\n",
    "x_tf_idf"
   ]
  },
  {
   "cell_type": "markdown",
   "metadata": {},
   "source": [
    "*membuat DataFrame baru yang disebut df_tf_idf menggunakan matriks TF-IDF yang telah dibuat sebelumnya (x_tf_idf). Setiap kolom dalam DataFrame ini akan mewakili satu fitur (kata-kata) dari matriks TF-IDF yang dihasilkan sebelumnya.*"
   ]
  },
  {
   "cell_type": "code",
   "execution_count": 30,
   "metadata": {},
   "outputs": [
    {
     "data": {
      "text/html": [
       "<div>\n",
       "<style scoped>\n",
       "    .dataframe tbody tr th:only-of-type {\n",
       "        vertical-align: middle;\n",
       "    }\n",
       "\n",
       "    .dataframe tbody tr th {\n",
       "        vertical-align: top;\n",
       "    }\n",
       "\n",
       "    .dataframe thead th {\n",
       "        text-align: right;\n",
       "    }\n",
       "</style>\n",
       "<table border=\"1\" class=\"dataframe\">\n",
       "  <thead>\n",
       "    <tr style=\"text-align: right;\">\n",
       "      <th></th>\n",
       "      <th>aamiin</th>\n",
       "      <th>aammiinnn</th>\n",
       "      <th>abal</th>\n",
       "      <th>abang</th>\n",
       "      <th>abbey</th>\n",
       "      <th>abege</th>\n",
       "      <th>abiiis</th>\n",
       "      <th>abiss</th>\n",
       "      <th>abu</th>\n",
       "      <th>ac</th>\n",
       "      <th>...</th>\n",
       "      <th>yh</th>\n",
       "      <th>yoo</th>\n",
       "      <th>youtube</th>\n",
       "      <th>yra</th>\n",
       "      <th>yuk</th>\n",
       "      <th>yutub</th>\n",
       "      <th>zaman</th>\n",
       "      <th>zholimi</th>\n",
       "      <th>zina</th>\n",
       "      <th>zzzzz</th>\n",
       "    </tr>\n",
       "  </thead>\n",
       "  <tbody>\n",
       "    <tr>\n",
       "      <th>0</th>\n",
       "      <td>0.0</td>\n",
       "      <td>0.0</td>\n",
       "      <td>0.0</td>\n",
       "      <td>0.0</td>\n",
       "      <td>0.0</td>\n",
       "      <td>0.000000</td>\n",
       "      <td>0.0</td>\n",
       "      <td>0.0</td>\n",
       "      <td>0.0</td>\n",
       "      <td>0.0</td>\n",
       "      <td>...</td>\n",
       "      <td>0.0</td>\n",
       "      <td>0.0</td>\n",
       "      <td>0.0</td>\n",
       "      <td>0.0</td>\n",
       "      <td>0.0</td>\n",
       "      <td>0.0</td>\n",
       "      <td>0.0</td>\n",
       "      <td>0.0</td>\n",
       "      <td>0.0</td>\n",
       "      <td>0.0</td>\n",
       "    </tr>\n",
       "    <tr>\n",
       "      <th>1</th>\n",
       "      <td>0.0</td>\n",
       "      <td>0.0</td>\n",
       "      <td>0.0</td>\n",
       "      <td>0.0</td>\n",
       "      <td>0.0</td>\n",
       "      <td>0.000000</td>\n",
       "      <td>0.0</td>\n",
       "      <td>0.0</td>\n",
       "      <td>0.0</td>\n",
       "      <td>0.0</td>\n",
       "      <td>...</td>\n",
       "      <td>0.0</td>\n",
       "      <td>0.0</td>\n",
       "      <td>0.0</td>\n",
       "      <td>0.0</td>\n",
       "      <td>0.0</td>\n",
       "      <td>0.0</td>\n",
       "      <td>0.0</td>\n",
       "      <td>0.0</td>\n",
       "      <td>0.0</td>\n",
       "      <td>0.0</td>\n",
       "    </tr>\n",
       "    <tr>\n",
       "      <th>2</th>\n",
       "      <td>0.0</td>\n",
       "      <td>0.0</td>\n",
       "      <td>0.0</td>\n",
       "      <td>0.0</td>\n",
       "      <td>0.0</td>\n",
       "      <td>0.237377</td>\n",
       "      <td>0.0</td>\n",
       "      <td>0.0</td>\n",
       "      <td>0.0</td>\n",
       "      <td>0.0</td>\n",
       "      <td>...</td>\n",
       "      <td>0.0</td>\n",
       "      <td>0.0</td>\n",
       "      <td>0.0</td>\n",
       "      <td>0.0</td>\n",
       "      <td>0.0</td>\n",
       "      <td>0.0</td>\n",
       "      <td>0.0</td>\n",
       "      <td>0.0</td>\n",
       "      <td>0.0</td>\n",
       "      <td>0.0</td>\n",
       "    </tr>\n",
       "    <tr>\n",
       "      <th>3</th>\n",
       "      <td>0.0</td>\n",
       "      <td>0.0</td>\n",
       "      <td>0.0</td>\n",
       "      <td>0.0</td>\n",
       "      <td>0.0</td>\n",
       "      <td>0.000000</td>\n",
       "      <td>0.0</td>\n",
       "      <td>0.0</td>\n",
       "      <td>0.0</td>\n",
       "      <td>0.0</td>\n",
       "      <td>...</td>\n",
       "      <td>0.0</td>\n",
       "      <td>0.0</td>\n",
       "      <td>0.0</td>\n",
       "      <td>0.0</td>\n",
       "      <td>0.0</td>\n",
       "      <td>0.0</td>\n",
       "      <td>0.0</td>\n",
       "      <td>0.0</td>\n",
       "      <td>0.0</td>\n",
       "      <td>0.0</td>\n",
       "    </tr>\n",
       "    <tr>\n",
       "      <th>4</th>\n",
       "      <td>0.0</td>\n",
       "      <td>0.0</td>\n",
       "      <td>0.0</td>\n",
       "      <td>0.0</td>\n",
       "      <td>0.0</td>\n",
       "      <td>0.000000</td>\n",
       "      <td>0.0</td>\n",
       "      <td>0.0</td>\n",
       "      <td>0.0</td>\n",
       "      <td>0.0</td>\n",
       "      <td>...</td>\n",
       "      <td>0.0</td>\n",
       "      <td>0.0</td>\n",
       "      <td>0.0</td>\n",
       "      <td>0.0</td>\n",
       "      <td>0.0</td>\n",
       "      <td>0.0</td>\n",
       "      <td>0.0</td>\n",
       "      <td>0.0</td>\n",
       "      <td>0.0</td>\n",
       "      <td>0.0</td>\n",
       "    </tr>\n",
       "    <tr>\n",
       "      <th>...</th>\n",
       "      <td>...</td>\n",
       "      <td>...</td>\n",
       "      <td>...</td>\n",
       "      <td>...</td>\n",
       "      <td>...</td>\n",
       "      <td>...</td>\n",
       "      <td>...</td>\n",
       "      <td>...</td>\n",
       "      <td>...</td>\n",
       "      <td>...</td>\n",
       "      <td>...</td>\n",
       "      <td>...</td>\n",
       "      <td>...</td>\n",
       "      <td>...</td>\n",
       "      <td>...</td>\n",
       "      <td>...</td>\n",
       "      <td>...</td>\n",
       "      <td>...</td>\n",
       "      <td>...</td>\n",
       "      <td>...</td>\n",
       "      <td>...</td>\n",
       "    </tr>\n",
       "    <tr>\n",
       "      <th>395</th>\n",
       "      <td>0.0</td>\n",
       "      <td>0.0</td>\n",
       "      <td>0.0</td>\n",
       "      <td>0.0</td>\n",
       "      <td>0.0</td>\n",
       "      <td>0.000000</td>\n",
       "      <td>0.0</td>\n",
       "      <td>0.0</td>\n",
       "      <td>0.0</td>\n",
       "      <td>0.0</td>\n",
       "      <td>...</td>\n",
       "      <td>0.0</td>\n",
       "      <td>0.0</td>\n",
       "      <td>0.0</td>\n",
       "      <td>0.0</td>\n",
       "      <td>0.0</td>\n",
       "      <td>0.0</td>\n",
       "      <td>0.0</td>\n",
       "      <td>0.0</td>\n",
       "      <td>0.0</td>\n",
       "      <td>0.0</td>\n",
       "    </tr>\n",
       "    <tr>\n",
       "      <th>396</th>\n",
       "      <td>0.0</td>\n",
       "      <td>0.0</td>\n",
       "      <td>0.0</td>\n",
       "      <td>0.0</td>\n",
       "      <td>0.0</td>\n",
       "      <td>0.000000</td>\n",
       "      <td>0.0</td>\n",
       "      <td>0.0</td>\n",
       "      <td>0.0</td>\n",
       "      <td>0.0</td>\n",
       "      <td>...</td>\n",
       "      <td>0.0</td>\n",
       "      <td>0.0</td>\n",
       "      <td>0.0</td>\n",
       "      <td>0.0</td>\n",
       "      <td>0.0</td>\n",
       "      <td>0.0</td>\n",
       "      <td>0.0</td>\n",
       "      <td>0.0</td>\n",
       "      <td>0.0</td>\n",
       "      <td>0.0</td>\n",
       "    </tr>\n",
       "    <tr>\n",
       "      <th>397</th>\n",
       "      <td>0.0</td>\n",
       "      <td>0.0</td>\n",
       "      <td>0.0</td>\n",
       "      <td>0.0</td>\n",
       "      <td>0.0</td>\n",
       "      <td>0.000000</td>\n",
       "      <td>0.0</td>\n",
       "      <td>0.0</td>\n",
       "      <td>0.0</td>\n",
       "      <td>0.0</td>\n",
       "      <td>...</td>\n",
       "      <td>0.0</td>\n",
       "      <td>0.0</td>\n",
       "      <td>0.0</td>\n",
       "      <td>0.0</td>\n",
       "      <td>0.0</td>\n",
       "      <td>0.0</td>\n",
       "      <td>0.0</td>\n",
       "      <td>0.0</td>\n",
       "      <td>0.0</td>\n",
       "      <td>0.0</td>\n",
       "    </tr>\n",
       "    <tr>\n",
       "      <th>398</th>\n",
       "      <td>0.0</td>\n",
       "      <td>0.0</td>\n",
       "      <td>0.0</td>\n",
       "      <td>0.0</td>\n",
       "      <td>0.0</td>\n",
       "      <td>0.000000</td>\n",
       "      <td>0.0</td>\n",
       "      <td>0.0</td>\n",
       "      <td>0.0</td>\n",
       "      <td>0.0</td>\n",
       "      <td>...</td>\n",
       "      <td>0.0</td>\n",
       "      <td>0.0</td>\n",
       "      <td>0.0</td>\n",
       "      <td>0.0</td>\n",
       "      <td>0.0</td>\n",
       "      <td>0.0</td>\n",
       "      <td>0.0</td>\n",
       "      <td>0.0</td>\n",
       "      <td>0.0</td>\n",
       "      <td>0.0</td>\n",
       "    </tr>\n",
       "    <tr>\n",
       "      <th>399</th>\n",
       "      <td>0.0</td>\n",
       "      <td>0.0</td>\n",
       "      <td>0.0</td>\n",
       "      <td>0.0</td>\n",
       "      <td>0.0</td>\n",
       "      <td>0.000000</td>\n",
       "      <td>0.0</td>\n",
       "      <td>0.0</td>\n",
       "      <td>0.0</td>\n",
       "      <td>0.0</td>\n",
       "      <td>...</td>\n",
       "      <td>0.0</td>\n",
       "      <td>0.0</td>\n",
       "      <td>0.0</td>\n",
       "      <td>0.0</td>\n",
       "      <td>0.0</td>\n",
       "      <td>0.0</td>\n",
       "      <td>0.0</td>\n",
       "      <td>0.0</td>\n",
       "      <td>0.0</td>\n",
       "      <td>0.0</td>\n",
       "    </tr>\n",
       "  </tbody>\n",
       "</table>\n",
       "<p>400 rows × 2305 columns</p>\n",
       "</div>"
      ],
      "text/plain": [
       "     aamiin  aammiinnn  abal  abang  abbey     abege  abiiis  abiss  abu   ac  \\\n",
       "0       0.0        0.0   0.0    0.0    0.0  0.000000     0.0    0.0  0.0  0.0   \n",
       "1       0.0        0.0   0.0    0.0    0.0  0.000000     0.0    0.0  0.0  0.0   \n",
       "2       0.0        0.0   0.0    0.0    0.0  0.237377     0.0    0.0  0.0  0.0   \n",
       "3       0.0        0.0   0.0    0.0    0.0  0.000000     0.0    0.0  0.0  0.0   \n",
       "4       0.0        0.0   0.0    0.0    0.0  0.000000     0.0    0.0  0.0  0.0   \n",
       "..      ...        ...   ...    ...    ...       ...     ...    ...  ...  ...   \n",
       "395     0.0        0.0   0.0    0.0    0.0  0.000000     0.0    0.0  0.0  0.0   \n",
       "396     0.0        0.0   0.0    0.0    0.0  0.000000     0.0    0.0  0.0  0.0   \n",
       "397     0.0        0.0   0.0    0.0    0.0  0.000000     0.0    0.0  0.0  0.0   \n",
       "398     0.0        0.0   0.0    0.0    0.0  0.000000     0.0    0.0  0.0  0.0   \n",
       "399     0.0        0.0   0.0    0.0    0.0  0.000000     0.0    0.0  0.0  0.0   \n",
       "\n",
       "     ...   yh  yoo  youtube  yra  yuk  yutub  zaman  zholimi  zina  zzzzz  \n",
       "0    ...  0.0  0.0      0.0  0.0  0.0    0.0    0.0      0.0   0.0    0.0  \n",
       "1    ...  0.0  0.0      0.0  0.0  0.0    0.0    0.0      0.0   0.0    0.0  \n",
       "2    ...  0.0  0.0      0.0  0.0  0.0    0.0    0.0      0.0   0.0    0.0  \n",
       "3    ...  0.0  0.0      0.0  0.0  0.0    0.0    0.0      0.0   0.0    0.0  \n",
       "4    ...  0.0  0.0      0.0  0.0  0.0    0.0    0.0      0.0   0.0    0.0  \n",
       "..   ...  ...  ...      ...  ...  ...    ...    ...      ...   ...    ...  \n",
       "395  ...  0.0  0.0      0.0  0.0  0.0    0.0    0.0      0.0   0.0    0.0  \n",
       "396  ...  0.0  0.0      0.0  0.0  0.0    0.0    0.0      0.0   0.0    0.0  \n",
       "397  ...  0.0  0.0      0.0  0.0  0.0    0.0    0.0      0.0   0.0    0.0  \n",
       "398  ...  0.0  0.0      0.0  0.0  0.0    0.0    0.0      0.0   0.0    0.0  \n",
       "399  ...  0.0  0.0      0.0  0.0  0.0    0.0    0.0      0.0   0.0    0.0  \n",
       "\n",
       "[400 rows x 2305 columns]"
      ]
     },
     "execution_count": 30,
     "metadata": {},
     "output_type": "execute_result"
    }
   ],
   "source": [
    "df_tf_idf = pd.DataFrame(x_tf_idf, columns=tf_idf.get_feature_names_out())\n",
    "df_tf_idf"
   ]
  },
  {
   "cell_type": "markdown",
   "metadata": {},
   "source": [
    "### Feature Selection (Chi Square)\n",
    "\n",
    "*menyiapkan data untuk proses seleksi fitur menggunakan metode Chi-Square (Chi-squared). Variabel x berisi matriks TF-IDF yang telah diubah menjadi array numpy dari DataFrame df_tf_idf, sedangkan variabel y berisi label sentimen yang sesuai dengan data tersebut.*"
   ]
  },
  {
   "cell_type": "code",
   "execution_count": 31,
   "metadata": {},
   "outputs": [],
   "source": [
    "x = np.array(df_tf_idf)\n",
    "y = np.array(y)"
   ]
  },
  {
   "cell_type": "markdown",
   "metadata": {},
   "source": [
    "*lakukan seleksi fitur menggunakan metode Chi-Square (Chi-squared) lalu mencetak informasi ini dapat memantau efek dari seleksi fitur terhadap jumlah fitur yang dipertahankan dalam model.*"
   ]
  },
  {
   "cell_type": "code",
   "execution_count": 32,
   "metadata": {},
   "outputs": [
    {
     "name": "stdout",
     "output_type": "stream",
     "text": [
      "original feature number: 2305\n",
      "reduced feature number: 1000\n"
     ]
    }
   ],
   "source": [
    "chi2_features = SelectKBest(chi2, k=1000)\n",
    "x_kbest_features = chi2_features.fit_transform(x, y)\n",
    "\n",
    "print('original feature number:', x.shape[1])\n",
    "print('reduced feature number:', x_kbest_features.shape[1])"
   ]
  },
  {
   "cell_type": "markdown",
   "metadata": {},
   "source": [
    "*membuat DataFrame baru df_chi2 yang berisi skor Chi-Square dari setiap fitur setelah proses seleksi fitur dilakukan.*"
   ]
  },
  {
   "cell_type": "code",
   "execution_count": 33,
   "metadata": {},
   "outputs": [
    {
     "data": {
      "text/html": [
       "<div>\n",
       "<style scoped>\n",
       "    .dataframe tbody tr th:only-of-type {\n",
       "        vertical-align: middle;\n",
       "    }\n",
       "\n",
       "    .dataframe tbody tr th {\n",
       "        vertical-align: top;\n",
       "    }\n",
       "\n",
       "    .dataframe thead th {\n",
       "        text-align: right;\n",
       "    }\n",
       "</style>\n",
       "<table border=\"1\" class=\"dataframe\">\n",
       "  <thead>\n",
       "    <tr style=\"text-align: right;\">\n",
       "      <th></th>\n",
       "      <th>nilai</th>\n",
       "    </tr>\n",
       "  </thead>\n",
       "  <tbody>\n",
       "    <tr>\n",
       "      <th>0</th>\n",
       "      <td>0.712649</td>\n",
       "    </tr>\n",
       "    <tr>\n",
       "      <th>1</th>\n",
       "      <td>0.266905</td>\n",
       "    </tr>\n",
       "    <tr>\n",
       "      <th>2</th>\n",
       "      <td>1.016960</td>\n",
       "    </tr>\n",
       "    <tr>\n",
       "      <th>3</th>\n",
       "      <td>0.001270</td>\n",
       "    </tr>\n",
       "    <tr>\n",
       "      <th>4</th>\n",
       "      <td>0.488178</td>\n",
       "    </tr>\n",
       "    <tr>\n",
       "      <th>...</th>\n",
       "      <td>...</td>\n",
       "    </tr>\n",
       "    <tr>\n",
       "      <th>2300</th>\n",
       "      <td>0.215649</td>\n",
       "    </tr>\n",
       "    <tr>\n",
       "      <th>2301</th>\n",
       "      <td>0.183404</td>\n",
       "    </tr>\n",
       "    <tr>\n",
       "      <th>2302</th>\n",
       "      <td>0.226724</td>\n",
       "    </tr>\n",
       "    <tr>\n",
       "      <th>2303</th>\n",
       "      <td>0.331307</td>\n",
       "    </tr>\n",
       "    <tr>\n",
       "      <th>2304</th>\n",
       "      <td>0.387797</td>\n",
       "    </tr>\n",
       "  </tbody>\n",
       "</table>\n",
       "<p>2305 rows × 1 columns</p>\n",
       "</div>"
      ],
      "text/plain": [
       "         nilai\n",
       "0     0.712649\n",
       "1     0.266905\n",
       "2     1.016960\n",
       "3     0.001270\n",
       "4     0.488178\n",
       "...        ...\n",
       "2300  0.215649\n",
       "2301  0.183404\n",
       "2302  0.226724\n",
       "2303  0.331307\n",
       "2304  0.387797\n",
       "\n",
       "[2305 rows x 1 columns]"
      ]
     },
     "execution_count": 33,
     "metadata": {},
     "output_type": "execute_result"
    }
   ],
   "source": [
    "df_chi2 = pd.DataFrame(chi2_features.scores_, columns=['nilai'])\n",
    "df_chi2"
   ]
  },
  {
   "cell_type": "markdown",
   "metadata": {},
   "source": [
    "# Building Model\n",
    "\n",
    "*Model jaringan saraf dibangun dengan tiga lapisan Dense yang masing-masing memiliki dropout 0.5, diikuti oleh lapisan output dengan aktivasi sigmoid, dan kemudian model dikompilasi menggunakan optimizer 'adam', fungsi loss 'binary_crossentropy', dan metrik evaluasi 'accuracy'.*"
   ]
  },
  {
   "cell_type": "code",
   "execution_count": 34,
   "metadata": {},
   "outputs": [],
   "source": [
    "model = Sequential()\n",
    "model.add(Dense(128, input_shape=(x_kbest_features.shape[1],), activation='relu'))\n",
    "model.add(Dropout(0.5))\n",
    "model.add(Dense(64, activation='relu'))\n",
    "model.add(Dropout(0.5))\n",
    "model.add(Dense(32, activation='relu'))\n",
    "model.add(Dropout(0.5))\n",
    "model.add(Dense(1, activation='sigmoid'))\n",
    "\n",
    "model.compile(optimizer='adam', loss='binary_crossentropy', metrics=['accuracy'])"
   ]
  },
  {
   "cell_type": "markdown",
   "metadata": {},
   "source": [
    "*membagi dataset menjadi data latih (train) dan data uji (test), yang merupakan praktek umum dalam pembelajaran mesin (machine learning) untuk mengevaluasi kinerja model.*"
   ]
  },
  {
   "cell_type": "code",
   "execution_count": 35,
   "metadata": {},
   "outputs": [],
   "source": [
    "x_train, x_test, y_train, y_test = train_test_split(x_kbest_features, y, test_size=0.2, random_state=42)"
   ]
  },
  {
   "cell_type": "markdown",
   "metadata": {},
   "source": [
    "*melatih model menggunakan data latih yang telah dibagi sebelumnya (x_train dan y_train)*"
   ]
  },
  {
   "cell_type": "code",
   "execution_count": 36,
   "metadata": {},
   "outputs": [
    {
     "name": "stdout",
     "output_type": "stream",
     "text": [
      "Epoch 1/20\n",
      "8/8 [==============================] - 2s 69ms/step - loss: 0.6921 - accuracy: 0.5039 - val_loss: 0.6933 - val_accuracy: 0.4844\n",
      "Epoch 2/20\n",
      "8/8 [==============================] - 0s 11ms/step - loss: 0.6893 - accuracy: 0.5430 - val_loss: 0.6908 - val_accuracy: 0.4844\n",
      "Epoch 3/20\n",
      "8/8 [==============================] - 0s 8ms/step - loss: 0.6861 - accuracy: 0.5273 - val_loss: 0.6884 - val_accuracy: 0.4844\n",
      "Epoch 4/20\n",
      "8/8 [==============================] - 0s 9ms/step - loss: 0.6811 - accuracy: 0.5742 - val_loss: 0.6850 - val_accuracy: 0.4844\n",
      "Epoch 5/20\n",
      "8/8 [==============================] - 0s 6ms/step - loss: 0.6751 - accuracy: 0.5703 - val_loss: 0.6804 - val_accuracy: 0.4844\n",
      "Epoch 6/20\n",
      "8/8 [==============================] - 0s 8ms/step - loss: 0.6656 - accuracy: 0.5664 - val_loss: 0.6728 - val_accuracy: 0.4844\n",
      "Epoch 7/20\n",
      "8/8 [==============================] - 0s 7ms/step - loss: 0.6534 - accuracy: 0.5586 - val_loss: 0.6621 - val_accuracy: 0.4844\n",
      "Epoch 8/20\n",
      "8/8 [==============================] - 0s 8ms/step - loss: 0.6300 - accuracy: 0.6094 - val_loss: 0.6438 - val_accuracy: 0.5000\n",
      "Epoch 9/20\n",
      "8/8 [==============================] - 0s 8ms/step - loss: 0.6033 - accuracy: 0.6328 - val_loss: 0.6170 - val_accuracy: 0.6250\n",
      "Epoch 10/20\n",
      "8/8 [==============================] - 0s 10ms/step - loss: 0.5468 - accuracy: 0.7461 - val_loss: 0.5810 - val_accuracy: 0.6875\n",
      "Epoch 11/20\n",
      "8/8 [==============================] - 0s 7ms/step - loss: 0.4951 - accuracy: 0.8164 - val_loss: 0.5315 - val_accuracy: 0.7656\n",
      "Epoch 12/20\n",
      "8/8 [==============================] - 0s 8ms/step - loss: 0.4303 - accuracy: 0.9219 - val_loss: 0.4771 - val_accuracy: 0.8438\n",
      "Epoch 13/20\n",
      "8/8 [==============================] - 0s 6ms/step - loss: 0.3594 - accuracy: 0.9453 - val_loss: 0.4195 - val_accuracy: 0.8906\n",
      "Epoch 14/20\n",
      "8/8 [==============================] - 0s 8ms/step - loss: 0.3081 - accuracy: 0.9453 - val_loss: 0.3648 - val_accuracy: 0.9062\n",
      "Epoch 15/20\n",
      "8/8 [==============================] - 0s 7ms/step - loss: 0.2342 - accuracy: 0.9805 - val_loss: 0.3190 - val_accuracy: 0.9219\n",
      "Epoch 16/20\n",
      "8/8 [==============================] - 0s 6ms/step - loss: 0.2018 - accuracy: 0.9688 - val_loss: 0.2792 - val_accuracy: 0.9219\n",
      "Epoch 17/20\n",
      "8/8 [==============================] - 0s 8ms/step - loss: 0.1542 - accuracy: 0.9766 - val_loss: 0.2506 - val_accuracy: 0.9062\n",
      "Epoch 18/20\n",
      "8/8 [==============================] - 0s 7ms/step - loss: 0.1297 - accuracy: 0.9727 - val_loss: 0.2290 - val_accuracy: 0.9062\n",
      "Epoch 19/20\n",
      "8/8 [==============================] - 0s 8ms/step - loss: 0.0737 - accuracy: 0.9922 - val_loss: 0.2184 - val_accuracy: 0.9062\n",
      "Epoch 20/20\n",
      "8/8 [==============================] - 0s 7ms/step - loss: 0.0639 - accuracy: 0.9883 - val_loss: 0.2110 - val_accuracy: 0.9062\n"
     ]
    }
   ],
   "source": [
    "history = model.fit(x_train, y_train, epochs=20, batch_size=32, validation_split=0.2)"
   ]
  },
  {
   "cell_type": "markdown",
   "metadata": {},
   "source": [
    "# Evaluasi kinerja model "
   ]
  },
  {
   "cell_type": "code",
   "execution_count": 37,
   "metadata": {},
   "outputs": [
    {
     "name": "stdout",
     "output_type": "stream",
     "text": [
      "3/3 [==============================] - 0s 6ms/step - loss: 0.1480 - accuracy: 0.9500\n",
      "Akurasi: 95.00%\n",
      "3/3 [==============================] - 0s 3ms/step\n",
      "Confusion Matrix:\n",
      "[[41  3]\n",
      " [ 1 35]]\n",
      "Classification Report:\n",
      "              precision    recall  f1-score   support\n",
      "\n",
      "           0       0.98      0.93      0.95        44\n",
      "           1       0.92      0.97      0.95        36\n",
      "\n",
      "    accuracy                           0.95        80\n",
      "   macro avg       0.95      0.95      0.95        80\n",
      "weighted avg       0.95      0.95      0.95        80\n",
      "\n"
     ]
    }
   ],
   "source": [
    "loss, accuracy = model.evaluate(x_test, y_test)\n",
    "print(f'Akurasi: {accuracy * 100:.2f}%')\n",
    "\n",
    "y_pred = (model.predict(x_test) > 0.5).astype(\"int32\")\n",
    "\n",
    "print('Confusion Matrix:')\n",
    "print(confusion_matrix(y_test, y_pred))\n",
    "print('Classification Report:')\n",
    "print(classification_report(y_test, y_pred))"
   ]
  },
  {
   "cell_type": "markdown",
   "metadata": {},
   "source": [
    "*menyimpan model yang telah dilatih ke dalam format H5*"
   ]
  },
  {
   "cell_type": "code",
   "execution_count": 38,
   "metadata": {},
   "outputs": [],
   "source": [
    "model.save('sentiment_analysis_model.h5')"
   ]
  },
  {
   "cell_type": "markdown",
   "metadata": {},
   "source": [
    "*konversi model Keras menjadi format TensorFlow Lite (TFLite) dengan menyimpannya ke file 'sentiment_analysis_model.tflite'.*"
   ]
  },
  {
   "cell_type": "code",
   "execution_count": 39,
   "metadata": {},
   "outputs": [
    {
     "name": "stdout",
     "output_type": "stream",
     "text": [
      "INFO:tensorflow:Assets written to: C:\\Users\\user\\AppData\\Local\\Temp\\tmpy8fga5gk\\assets\n",
      "Model has been converted to TFLite and saved as 'sentiment_analysis_model.tflite'\n"
     ]
    }
   ],
   "source": [
    "converter = tf.lite.TFLiteConverter.from_keras_model(model)\n",
    "tflite_model = converter.convert()\n",
    "\n",
    "with open('sentiment_analysis_model.tflite', 'wb') as f:\n",
    "    f.write(tflite_model)\n",
    "\n",
    "print(\"Model has been converted to TFLite and saved as 'sentiment_analysis_model.tflite'\")"
   ]
  },
  {
   "cell_type": "markdown",
   "metadata": {},
   "source": [
    "### Finalizing"
   ]
  },
  {
   "cell_type": "markdown",
   "metadata": {},
   "source": [
    "*Fungsi preprocess_and_predict melakukan pra-pemrosesan pada teks input, kemudian menerapkan model yang telah dilatih untuk menghasilkan prediksi sentimen berdasarkan teks yang telah diproses, dengan keluaran 'komentar positif' jika prediksi lebih dari 0.5 dan 'komentar negatif' jika tidak.*"
   ]
  },
  {
   "cell_type": "code",
   "execution_count": 42,
   "metadata": {},
   "outputs": [
    {
     "name": "stdout",
     "output_type": "stream",
     "text": [
      "Input Text: Lukisan nya kontol\n",
      "1/1 [==============================] - 0s 236ms/step\n",
      "Hasil Prediksi: komentar negative\n"
     ]
    }
   ],
   "source": [
    "def preprocess_and_predict(input_text):\n",
    "    preprocessed_text = text_preprocessing_process(input_text)\n",
    "    tf_idf_vec = tf_idf.transform([preprocessed_text]).toarray()\n",
    "    kbest_vec = chi2_features.transform(tf_idf_vec)\n",
    "    prediction = (model.predict(kbest_vec) > 0.5).astype(\"int32\")\n",
    "    return 'komentar positive' if prediction == 1 else 'komentar negative'\n",
    "\n",
    "input_text = \"Lukisan nya kontol\"\n",
    "print(f'Input Text: {input_text}')\n",
    "print(f'Hasil Prediksi: {preprocess_and_predict(input_text)}')"
   ]
  }
 ],
 "metadata": {
  "kernelspec": {
   "display_name": "Le444n",
   "language": "python",
   "name": "python3"
  },
  "language_info": {
   "codemirror_mode": {
    "name": "ipython",
    "version": 3
   },
   "file_extension": ".py",
   "mimetype": "text/x-python",
   "name": "python",
   "nbconvert_exporter": "python",
   "pygments_lexer": "ipython3",
   "version": "3.8.18"
  }
 },
 "nbformat": 4,
 "nbformat_minor": 2
}
